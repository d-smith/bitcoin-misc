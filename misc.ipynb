{
 "cells": [
  {
   "cell_type": "code",
   "execution_count": 5,
   "id": "e85a9bad-a10a-439c-b450-55aa2bffc688",
   "metadata": {},
   "outputs": [],
   "source": [
    "wif = 'cPtV2qd8MrjWDiVwD8HchQVDNMc6KrEfnyqonAJWoCSE4voppvf5'"
   ]
  },
  {
   "cell_type": "code",
   "execution_count": 6,
   "id": "ae7c59f6-bdd2-499c-b135-e069999ca263",
   "metadata": {},
   "outputs": [
    {
     "name": "stdout",
     "output_type": "stream",
     "text": [
      "mzTWLA2kJwZECywvGmkj8k2tVmVDpXLNq6\n"
     ]
    }
   ],
   "source": [
    "from bitcoinlib.keys import Key\n",
    "k = Key(wif)\n",
    "print(k.address())"
   ]
  },
  {
   "cell_type": "code",
   "execution_count": 11,
   "id": "4fd4c2ec-026f-4694-b7ca-912825cb86a5",
   "metadata": {},
   "outputs": [
    {
     "data": {
      "text/plain": [
       "'tb1qelph0um7c8rz7autg5v2hk5g33ps8dc6f7eu2n'"
      ]
     },
     "execution_count": 11,
     "metadata": {},
     "output_type": "execute_result"
    }
   ],
   "source": [
    "k.address(encoding='bech32')"
   ]
  },
  {
   "cell_type": "code",
   "execution_count": 7,
   "id": "da730b02-34c6-4829-a496-f335a48da97f",
   "metadata": {},
   "outputs": [
    {
     "data": {
      "text/plain": [
       "'mivh1dcR1Puy9NLCVzRnsoyBEqRrkmP3a4'"
      ]
     },
     "execution_count": 7,
     "metadata": {},
     "output_type": "execute_result"
    }
   ],
   "source": [
    "Key('cW8fQnPTkyhvpwaniiRKXu7bxp7wRixXF4rErEGbZZyx1nbWMVx6').address()"
   ]
  },
  {
   "cell_type": "code",
   "execution_count": 10,
   "id": "6f6c0ce7-fece-4836-b7c7-7338f4dd00e7",
   "metadata": {},
   "outputs": [
    {
     "data": {
      "text/plain": [
       "'tb1qy4je5jmv4tce9s9dy49f9ysg77mqd93sl9qa8c'"
      ]
     },
     "execution_count": 10,
     "metadata": {},
     "output_type": "execute_result"
    }
   ],
   "source": [
    "Key('cW8fQnPTkyhvpwaniiRKXu7bxp7wRixXF4rErEGbZZyx1nbWMVx6').address(encoding='bech32')"
   ]
  },
  {
   "cell_type": "code",
   "execution_count": 13,
   "id": "410711cf-a064-48eb-bc54-e320f5a80b23",
   "metadata": {},
   "outputs": [
    {
     "name": "stdout",
     "output_type": "stream",
     "text": [
      "Method sendtoaddress failed with error: Invalid Bitcoin address: tb1qelph0um7c8rz7autg5v2hk5g33ps8dc6f7eu2n\n"
     ]
    }
   ],
   "source": [
    "# Nigiri faucet does note appear to support bech32 addresses\n",
    "!curl -X POST --data '{\"address\": \"tb1qelph0um7c8rz7autg5v2hk5g33ps8dc6f7eu2n\", \"amount\": 0.02}' http://localhost:3000/faucet"
   ]
  },
  {
   "cell_type": "code",
   "execution_count": null,
   "id": "46efa957-f96d-4c6a-81bb-d1c310e8b917",
   "metadata": {},
   "outputs": [],
   "source": []
  }
 ],
 "metadata": {
  "kernelspec": {
   "display_name": "Python 3 (ipykernel)",
   "language": "python",
   "name": "python3"
  },
  "language_info": {
   "codemirror_mode": {
    "name": "ipython",
    "version": 3
   },
   "file_extension": ".py",
   "mimetype": "text/x-python",
   "name": "python",
   "nbconvert_exporter": "python",
   "pygments_lexer": "ipython3",
   "version": "3.9.6"
  }
 },
 "nbformat": 4,
 "nbformat_minor": 5
}
